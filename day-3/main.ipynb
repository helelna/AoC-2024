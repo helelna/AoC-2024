{
 "cells": [
  {
   "cell_type": "markdown",
   "metadata": {},
   "source": [
    "## Setup"
   ]
  },
  {
   "cell_type": "code",
   "execution_count": 6,
   "metadata": {},
   "outputs": [],
   "source": [
    "import re\n",
    "with open(\"input.txt\", \"r\") as f:\n",
    "    lines = f.read()"
   ]
  },
  {
   "cell_type": "markdown",
   "metadata": {},
   "source": [
    "## Part One"
   ]
  },
  {
   "cell_type": "code",
   "execution_count": 7,
   "metadata": {},
   "outputs": [
    {
     "name": "stdout",
     "output_type": "stream",
     "text": [
      "173529487\n"
     ]
    }
   ],
   "source": [
    "result = 0\n",
    "\n",
    "pattern = re.compile(r\"mul\\((\\d+),(\\d+)\\)\")\n",
    "numbers = pattern.findall(lines)\n",
    "\n",
    "for x, y in numbers:\n",
    "    result += int(x) * int(y)\n",
    "\n",
    "print(result)"
   ]
  },
  {
   "cell_type": "markdown",
   "metadata": {},
   "source": [
    "## Part Two"
   ]
  },
  {
   "cell_type": "code",
   "execution_count": 8,
   "metadata": {},
   "outputs": [
    {
     "name": "stdout",
     "output_type": "stream",
     "text": [
      "99532691\n"
     ]
    }
   ],
   "source": [
    "result = 0\n",
    "\n",
    "doDontPattern = re.compile(r\"(?<=don't\\(\\))[\\s\\S]*?(?=do\\(\\))\")\n",
    "lines = re.sub(doDontPattern, \"\", lines)\n",
    "\n",
    "mulPattern = re.compile(r\"mul\\((\\d+),(\\d+)\\)\")\n",
    "numbers = mulPattern.findall(lines)\n",
    "\n",
    "for x, y in numbers:\n",
    "    result += int(x) * int(y)\n",
    "\n",
    "print(result)"
   ]
  }
 ],
 "metadata": {
  "kernelspec": {
   "display_name": "AoC-2024",
   "language": "python",
   "name": "python3"
  },
  "language_info": {
   "codemirror_mode": {
    "name": "ipython",
    "version": 3
   },
   "file_extension": ".py",
   "mimetype": "text/x-python",
   "name": "python",
   "nbconvert_exporter": "python",
   "pygments_lexer": "ipython3",
   "version": "3.12.3"
  }
 },
 "nbformat": 4,
 "nbformat_minor": 2
}
